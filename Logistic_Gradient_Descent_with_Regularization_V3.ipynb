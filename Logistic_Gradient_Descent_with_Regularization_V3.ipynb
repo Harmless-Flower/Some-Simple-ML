{
  "metadata": {
    "language_info": {
      "codemirror_mode": {
        "name": "python",
        "version": 3
      },
      "file_extension": ".py",
      "mimetype": "text/x-python",
      "name": "python",
      "nbconvert_exporter": "python",
      "pygments_lexer": "ipython3",
      "version": "3.8"
    },
    "kernelspec": {
      "name": "python",
      "display_name": "Python (Pyodide)",
      "language": "python"
    }
  },
  "nbformat_minor": 4,
  "nbformat": 4,
  "cells": [
    {
      "cell_type": "code",
      "source": "import numpy as np\nimport matplotlib.pyplot as plt",
      "metadata": {
        "trusted": true
      },
      "execution_count": 6,
      "outputs": []
    },
    {
      "cell_type": "code",
      "source": "X_train = np.array([\n    [1,2,3,4],\n    [5,6,7,8],\n    [9,10,11,12]\n])\ny_train = np.array([0,0,1])",
      "metadata": {
        "trusted": true
      },
      "execution_count": 27,
      "outputs": []
    },
    {
      "cell_type": "code",
      "source": "w_init = np.zeros(X_train.shape[1])\nb_init = 0\nalpha = 0.001\nlamb = 1\nite = 10000",
      "metadata": {
        "trusted": true
      },
      "execution_count": 9,
      "outputs": []
    },
    {
      "cell_type": "code",
      "source": "def sigmoid(z):\n    return 1/(1 + np.exp(-z))",
      "metadata": {
        "trusted": true
      },
      "execution_count": 11,
      "outputs": []
    },
    {
      "cell_type": "code",
      "source": "def cost_func(X,y,w,b,lamd):\n    m = X.shape[0]\n    j = 0\n    for i in range(m):\n        j += (-y[i])*(np.log(sigmoid(np.dot(w,X[i]) + b))) - (1 - y[i])*(np.log(1 - sigmoid(np.dot(w,X[i]) + b)))\n    return j/m + np.sum(w**2)*lamd/(2*m)",
      "metadata": {
        "trusted": true
      },
      "execution_count": 13,
      "outputs": []
    },
    {
      "cell_type": "code",
      "source": "def grad_func(X,y,w,b,lamd):\n    m,n = X.shape\n    dj_dw = np.zeros_like(w)\n    dj_db = 0\n    for i in range(m):\n        err = sigmoid(np.dot(w,X[i]) + b) - y[i]\n        dj_db += err\n        for j in range(n):\n            dj_dw[j] += err*X[i,j]\n    dj_db = dj_db/m\n    dj_dw = dj_dw/m + lamd*w/m\n    return dj_dw, dj_db",
      "metadata": {
        "trusted": true
      },
      "execution_count": 29,
      "outputs": []
    },
    {
      "cell_type": "code",
      "source": "def rep_grad_func(X,y,w,b,lamd,alpha,ite):\n    for i in range(ite):\n        dj_dw, dj_db = grad_func(X,y,w,b,lamd)\n        w -= alpha*dj_dw\n        b -= alpha*dj_db\n    return w,b",
      "metadata": {
        "trusted": true
      },
      "execution_count": 31,
      "outputs": []
    },
    {
      "cell_type": "code",
      "source": "w_fin, b_fin = rep_grad_func(X_train,y_train,w_init,b_init,lamb, alpha, ite)\nprint(f\"The initial cost was {cost_func(X_train,y_train,w_init,b_init,lamb)}\")\nprint(f\"The final cost was {cost_func(X_train,y_train,w_fin,b_fin,lamb)}\")\nprint(f\"The final w parameters are {w_fin}\")\nprint(f\"The final b parameters are {b_fin}\")",
      "metadata": {
        "trusted": true
      },
      "execution_count": 32,
      "outputs": [
        {
          "name": "stdout",
          "text": "The initial cost was nan\nThe final cost was nan\nThe final w parameters are [1339.9517084  1549.93640651 1759.92110461 1969.90580271]\nThe final b parameters are -6.666666666666066\n",
          "output_type": "stream"
        }
      ]
    },
    {
      "cell_type": "code",
      "source": "",
      "metadata": {},
      "execution_count": null,
      "outputs": []
    }
  ]
}